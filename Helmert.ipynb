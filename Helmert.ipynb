{
 "metadata": {
  "language_info": {
   "codemirror_mode": {
    "name": "ipython",
    "version": 3
   },
   "file_extension": ".py",
   "mimetype": "text/x-python",
   "name": "python",
   "nbconvert_exporter": "python",
   "pygments_lexer": "ipython3",
   "version": "3.8.5-final"
  },
  "orig_nbformat": 2,
  "kernelspec": {
   "name": "Python 3.8.5 32-bit",
   "display_name": "Python 3.8.5 32-bit",
   "metadata": {
    "interpreter": {
     "hash": "129c8e036582a828ef5a7d9bbda2175e281c64be326c6e4481c7339c41e45324"
    }
   }
  }
 },
 "nbformat": 4,
 "nbformat_minor": 2,
 "cells": [
  {
   "source": [
    "\n",
    "## PROGRAMA HELMERT \n",
    "\n",
    "* Natali Ochoa   \n",
    "* Oscar Castillo\n",
    "\n",
    "#### Sistemas de Posicionamiento Geodesico"
   ],
   "cell_type": "markdown",
   "metadata": {}
  },
  {
   "source": [
    "## !ATENCION!! \n",
    "### Por favor insertar phi y lambda en decimales en la ultima caja\n",
    "## GRACIAS :)\n"
   ],
   "cell_type": "markdown",
   "metadata": {}
  },
  {
   "source": [
    "## Definir Parametros"
   ],
   "cell_type": "markdown",
   "metadata": {}
  },
  {
   "source": [
    "import math\n",
    "import pandas as pd\n",
    "import numpy as np\n",
    "class Quadrant:\n",
    "    dx = 0\n",
    "    dy = 0\n",
    "    dz = 0\n",
    "    u = 0\n",
    "    rx = 0\n",
    "    ry = 0\n",
    "    rz = 0\n",
    "    def __init__(self, dx, dy, dz, u, rx, ry, rz): \n",
    "        self.dx = dx\n",
    "        self.dy = dy\n",
    "        self.dz = dz\n",
    "        self.u = u\n",
    "        self.rx = rx\n",
    "        self.ry = ry\n",
    "        self.rz = rz\n",
    "        \n",
    "\n",
    "c1 = Quadrant(-806.4130, 263.5000, -622.6710, -0.00002081616, -0.00006018583, -0.00001450001, -0.00018924550)\n",
    "c2 = Quadrant(100.7830, 348.5650, 252.9780, -0.00001356561, -0.00004471839, 0.00001175093, -0.00004027967)\n",
    "c3 = Quadrant(336.0260, 348.6560, 252.9780, -0.00000577191, -0.00008358813, -0.00003057474, 0.00000757303)\n",
    "c4 = Quadrant(963.2730, 486.3860, 190.9970, -0.00001389914, -0.00007992171, -0.00008090696, 0.00010516990)\n",
    "c5 = Quadrant(-90.2900, 247.5590, 21.9890, 0.00000218166, 0.00004216369, -0.00002030416, -0.00006209623)\n",
    "c6 = Quadrant(-0.5620, 244.2990, -456.9380, 0.00000374656, 0.00003329153, -0.00004001009, -0.00004507206)\n",
    "c7 = Quadrant(-305.3560, 222.0040, -30.0230, 0.00000632575, -0.00004698084, 0.00000500312, -0.00009578655)\n",
    "c8 = Quadrant(221.8990, 274.1360, -397.5540, -0.00000219994, 0.00001361573, -0.00000217443, -0.00001362410)\n",
    "\n",
    "a = 6378388.000\n",
    "e2 = 0.00672267002233\n",
    "\n"
   ],
   "cell_type": "code",
   "metadata": {},
   "execution_count": 1,
   "outputs": []
  },
  {
   "source": [
    "## Definir funciones"
   ],
   "cell_type": "markdown",
   "metadata": {}
  },
  {
   "cell_type": "code",
   "execution_count": 2,
   "metadata": {},
   "outputs": [],
   "source": [
    "def getRadian (coord):\n",
    "    return math.radians(coord)\n",
    "    \n",
    "def isRange(val, min, max): \n",
    "    return (val < max and val >= min)\n",
    "\n",
    "def getQuadrant(phi_, lambda_):\n",
    "    lambda_ = abs(lambda_)\n",
    "    \n",
    "    c1_ = isRange(phi_, 10, 13) and isRange(lambda_, 71, 73)\n",
    "    c2_ = isRange(phi_, 9.4, 11) and isRange(lambda_, 73, 76)\n",
    "    c3_ = isRange(phi_, 8, 9.4) and isRange(lambda_, 74.4, 77.6)\n",
    "    c4_ = isRange(phi_, 5, 9.4) and isRange(lambda_, 72, 74.4)\n",
    "    c5_ = isRange(phi_, 5, 8) and isRange(lambda_, 74.4, 78)\n",
    "    c6_ = isRange(phi_, 3, 5) and isRange(lambda_, 74.4, 78)\n",
    "    c7_ = isRange(phi_, -1, 3) and isRange(lambda_, 74, 79)\n",
    "    c8_ = isRange(phi_, -4.5, 3) and isRange(lambda_, 66.5, 74) or isRange(phi_, 3, 5) and isRange(lambda_, 66.5, 74) or isRange(phi_, 5, 7.3) and isRange(lambda_, 66.5, 72)\n",
    "    \n",
    "    if(c1_): return ('I', c1)\n",
    "    if(c2_): return ('II', c2)\n",
    "    if(c3_): return ('III', c3)\n",
    "    if(c4_): return ('IV', c4)\n",
    "    if(c5_): return ('V', c5)\n",
    "    if(c6_): return ('VI', c6)\n",
    "    if(c7_): return ('VII', c7)\n",
    "    if(c8_): return ('VIII', c8)"
   ]
  },
  {
   "source": [
    "## Calcular N \n",
    "\n",
    "![formula N](./N.JPG) \n"
   ],
   "cell_type": "markdown",
   "metadata": {
    "tags": []
   }
  },
  {
   "cell_type": "code",
   "execution_count": 3,
   "metadata": {},
   "outputs": [],
   "source": [
    "def N (phi_):\n",
    "    return a/math.sqrt(1-e2*(math.sin(math.radians(phi_)))**2)"
   ]
  },
  {
   "source": [
    "## Calcular X Y Z\n",
    "\n",
    "![formula N](./xyz.JPG) "
   ],
   "cell_type": "markdown",
   "metadata": {
    "tags": []
   }
  },
  {
   "cell_type": "code",
   "execution_count": 4,
   "metadata": {},
   "outputs": [],
   "source": [
    "def X (phi_, lambda_, h, n):\n",
    "    return (n+h)* math.cos(math.radians(phi_))*math.cos(math.radians(lambda_))\n",
    "\n",
    "def Y (phi_, lambda_, h, n):\n",
    "    return (n+h)* math.cos(math.radians(phi_))*math.sin(math.radians(lambda_))\n",
    "\n",
    "def Z (phi_, lambda_, h, n):\n",
    "    return ((1-e2)*(n+h))* math.sin(math.radians(phi_))"
   ]
  },
  {
   "source": [
    "## Calcular Xm Ym Zm\n",
    "\n",
    "![formula XYZm](./XYZm.JPG) "
   ],
   "cell_type": "markdown",
   "metadata": {}
  },
  {
   "source": [
    "### COMPUTAR MATRICES"
   ],
   "cell_type": "markdown",
   "metadata": {}
  },
  {
   "cell_type": "code",
   "execution_count": 5,
   "metadata": {},
   "outputs": [],
   "source": [
    "def calculate(phi_, lambda_, h = None):\n",
    "    (c_name, c)= getQuadrant(phi_,lambda_)\n",
    "    phi_rad = getRadian(phi_)\n",
    "    lambda_rad = getRadian(lambda_)\n",
    "\n",
    "    n = N(phi_)\n",
    "\n",
    "    x= X(phi_, lambda_, h, n)\n",
    "    y = Y (phi_, lambda_, h, n)\n",
    "    z = Z (phi_, lambda_, h, n)\n",
    "\n",
    "    u_ = 1+c.u\n",
    "\n",
    "    a_ = np.asarray([c.dx , c.dy, c.dz])\n",
    "    b_ = np.asarray([\n",
    "        [u_*1,        u_*c.rz,      u_*(-c.ry)],\n",
    "        [u_*(-c.rz),  u_*1,         u_*c.rx],\n",
    "        [u_*c.ry,     u_*(-c.rx),   u_*1]\n",
    "    ])\n",
    "    c_ = np.asarray([x, y, z])\n",
    "\n",
    "    b_c = np.dot(b_,c_)\n",
    "    a_b_c = a_ + b_c\n",
    "\n",
    "    data = {\n",
    "        '': ['Grados', 'Radianes'],\n",
    "        'Phi':  [phi_, phi_rad],\n",
    "        'Lambda': [lambda_, lambda_rad],\n",
    "        'h': [h,''],\n",
    "        'region': [c_name,''],\n",
    "    }\n",
    "\n",
    "    df = pd.DataFrame (data, columns =['', 'Phi','Lambda','h','region'])\n",
    "\n",
    "    print (df,'\\n')\n",
    "    print ('N','   ' ,n,)\n",
    "    print ('X','   ' ,x,)\n",
    "    print ('Y','   ' ,y,)\n",
    "    print ('Z','   ' ,z,'\\n')\n",
    "    \n",
    "\n",
    "    xyzm = {\n",
    "        'Xm': [int(a_b_c [0])],\n",
    "        'Ym':  [int(a_b_c [1])],\n",
    "        'Zm': [int(a_b_c [2])]\n",
    "    }\n",
    "\n",
    "    df_xyz = pd.DataFrame (xyzm, columns =['Xm','Ym','Zm'])    \n",
    "    print (df_xyz)\n",
    "\n",
    "   "
   ]
  },
  {
   "source": [
    "## Insertar phi, lambda y h en la siguiente caja.\n",
    "### phi y lamnda en grados decimales"
   ],
   "cell_type": "markdown",
   "metadata": {}
  },
  {
   "source": [
    "phi_ = 2.249\n",
    "lambda_ = -74.96580\n",
    "h = 687.32\n",
    "\n",
    "calculate(phi_, lambda_, h)\n"
   ],
   "cell_type": "code",
   "metadata": {
    "tags": []
   },
   "execution_count": 7,
   "outputs": [
    {
     "output_type": "stream",
     "name": "stdout",
     "text": "                  Phi   Lambda       h region\n0    Grados  2.249000 -74.9658  687.32    VII\n1  Radianes  0.039252  -1.3084                \n\nN     6378421.016930277\nX     1653437.8062450718\nY     -6156013.385437349\nZ     248648.47219036144 \n\n        Xm       Ym      Zm\n0  1653731 -6155683  248339\n"
    }
   ]
  }
 ]
}